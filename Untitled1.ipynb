{
  "nbformat": 4,
  "nbformat_minor": 0,
  "metadata": {
    "colab": {
      "provenance": []
    },
    "kernelspec": {
      "name": "python3",
      "display_name": "Python 3"
    },
    "language_info": {
      "name": "python"
    }
  },
  "cells": [
    {
      "cell_type": "code",
      "execution_count": 8,
      "metadata": {
        "colab": {
          "base_uri": "https://localhost:8080/"
        },
        "id": "tBZXnSuf9M6N",
        "outputId": "2b26de20-3a0d-4cf5-b665-9d60bb58ced1"
      },
      "outputs": [
        {
          "output_type": "stream",
          "name": "stdout",
          "text": [
            "許貽婷\n",
            "<class 'str'>\n",
            "B1205012\n",
            "<class 'str'>\n"
          ]
        }
      ],
      "source": [
        "x=\"許貽婷\"\n",
        "y=\"B1205012\"\n",
        "print(x)\n",
        "print(type(x))\n",
        "print(y)\n",
        "print(type(y))"
      ]
    },
    {
      "cell_type": "code",
      "source": [
        "dict={\"name\":\"許貽婷\",\"number\":\"B1205012\"}\n",
        "name=dict[\"name\"]\n",
        "number=dict[\"number\"]\n",
        "print(f\"Name:{name},Number:{number}\")"
      ],
      "metadata": {
        "colab": {
          "base_uri": "https://localhost:8080/"
        },
        "id": "tq4t0_iw-1Tl",
        "outputId": "26d70ef6-71cf-410b-e2f2-f8dab7dc1633"
      },
      "execution_count": 9,
      "outputs": [
        {
          "output_type": "stream",
          "name": "stdout",
          "text": [
            "Name:許貽婷,Number:B1205012\n"
          ]
        }
      ]
    }
  ]
}